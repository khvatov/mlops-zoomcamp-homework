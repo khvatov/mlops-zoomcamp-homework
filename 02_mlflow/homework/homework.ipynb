{
 "cells": [
  {
   "cell_type": "markdown",
   "id": "6cc788d4-9928-442d-b824-1b67656c9dab",
   "metadata": {},
   "source": [
    "## 02-Homework Alex Khvatov"
   ]
  },
  {
   "cell_type": "markdown",
   "id": "14feb3c3-aa87-4cb2-b8f0-1cc0beab9d29",
   "metadata": {},
   "source": [
    "### Q1. Install MLflow\n",
    "\n",
    "To get started with MLflow you'll need to install the MLflow Python package.\n",
    "\n",
    "For this we recommend creating a separate Python environment, for example, you can use conda environments, and then install the package there with pip or conda.\n",
    "\n",
    "Once you installed the package, run the command mlflow --version and check the output.\n",
    "\n",
    "What's the version that you have?"
   ]
  },
  {
   "cell_type": "code",
   "execution_count": 1,
   "id": "8a86bcaf-4b1f-4da4-9ed0-d8a0e8a379f8",
   "metadata": {},
   "outputs": [
    {
     "name": "stdout",
     "output_type": "stream",
     "text": [
      "mlflow, version 2.22.0\n"
     ]
    }
   ],
   "source": [
    "!mlflow --version"
   ]
  },
  {
   "cell_type": "markdown",
   "id": "7c503620-f507-4075-bae1-c019f7a60dee",
   "metadata": {},
   "source": [
    "### Q2. Download and preprocess the data\n",
    "\n",
    "We'll use the Yellow Taxi Trip Records dataset to predict the duration of each trip.\n",
    "\n",
    "Download the data for January, February and March 2023 in parquet format from here.\n",
    "\n",
    "Use the script preprocess_data.py located in the folder homework to preprocess the data.\n",
    "\n",
    "The script will:\n",
    "\n",
    "load the data from the folder <TAXI_DATA_FOLDER> (the folder where you have downloaded the data),\n",
    "fit a DictVectorizer on the training set (January 2023 data),\n",
    "save the preprocessed datasets and the DictVectorizer to disk.\n",
    "Your task is to download the datasets and then execute this command:\n",
    "\n",
    "python preprocess_data.py --raw_data_path <TAXI_DATA_FOLDER> --dest_path ./output\n",
    "Tip: go to 02-experiment-tracking/homework/ folder before executing the command and change the value of <TAXI_DATA_FOLDER> to the location where you saved the data.\n",
    "\n",
    "How many files were saved to OUTPUT_FOLDER?"
   ]
  },
  {
   "cell_type": "markdown",
   "id": "db9b10ae-2cd8-437f-93fe-2687bf512618",
   "metadata": {},
   "source": [
    "4"
   ]
  },
  {
   "cell_type": "markdown",
   "id": "e3f51f56-3e21-4cc6-bbc1-a135ba3c1acf",
   "metadata": {},
   "source": [
    "#### Q3. Train a model with autolog\n",
    "We will train a RandomForestRegressor (from Scikit-Learn) on the taxi dataset.\n",
    "\n",
    "We have prepared the training script train.py for this exercise, which can be also found in the folder homework.\n",
    "\n",
    "The script will:\n",
    "\n",
    "load the datasets produced by the previous step,\n",
    "train the model on the training set,\n",
    "calculate the RMSE score on the validation set.\n",
    "Your task is to modify the script to enable autologging with MLflow, execute the script and then launch the MLflow UI to check that the experiment run was properly tracked.\n",
    "\n",
    "Tip 1: don't forget to wrap the training code with a with mlflow.start_run(): statement as we showed in the videos.\n",
    "\n",
    "Tip 2: don't modify the hyperparameters of the model to make sure that the training will finish quickly.\n",
    "\n",
    "What is the value of the min_samples_split parameter:"
   ]
  },
  {
   "cell_type": "markdown",
   "id": "1981306a-4e4b-4c5e-9f15-ad4fa92944d7",
   "metadata": {},
   "source": [
    "min_samples_split = 2"
   ]
  },
  {
   "cell_type": "markdown",
   "id": "28edc11e-82b9-40bd-ae6c-06aeca70e118",
   "metadata": {},
   "source": [
    "#### Q4. Launch the tracking server locally\n",
    "Now we want to manage the entire lifecycle of our ML model. In this step, you'll need to launch a tracking server. This way we will also have access to the model registry.\n",
    "\n",
    "Your task is to:\n",
    "\n",
    "launch the tracking server on your local machine,\n",
    "select a SQLite db for the backend store and a folder called artifacts for the artifacts store.\n",
    "You should keep the tracking server running to work on the next two exercises that use the server.\n",
    "\n",
    "In addition to backend-store-uri, what else do you need to pass to properly configure the server?"
   ]
  },
  {
   "cell_type": "markdown",
   "id": "63c580e9-e89a-4fa7-a419-cdfb26e06098",
   "metadata": {},
   "source": [
    "default-artifact-root"
   ]
  },
  {
   "cell_type": "markdown",
   "id": "4a1b46c5-86cb-429a-bf39-e5977870e0c0",
   "metadata": {},
   "source": [
    "#### Q5. Tune model hyperparameters\n",
    "Now let's try to reduce the validation error by tuning the hyperparameters of the RandomForestRegressor using hyperopt. We have prepared the script hpo.py for this exercise.\n",
    "\n",
    "Your task is to modify the script hpo.py and make sure that the validation RMSE is logged to the tracking server for each run of the hyperparameter optimization (you will need to add a few lines of code to the objective function) and run the script without passing any parameters.\n",
    "\n",
    "After that, open UI and explore the runs from the experiment called random-forest-hyperopt to answer the question below.\n",
    "\n",
    "Note: Don't use autologging for this exercise.\n",
    "\n",
    "The idea is to just log the information that you need to answer the question below, including:\n",
    "\n",
    "the list of hyperparameters that are passed to the objective function during the optimization,\n",
    "the RMSE obtained on the validation set (February 2023 data).\n",
    "What's the best validation RMSE that you got?"
   ]
  },
  {
   "cell_type": "markdown",
   "id": "c1a95295-e4f2-48bd-b901-610e5550abe9",
   "metadata": {},
   "source": [
    "RMSE=5.037464215926993"
   ]
  },
  {
   "cell_type": "markdown",
   "id": "6f7e55f6-9caf-43c3-a8c6-bfce401246f9",
   "metadata": {},
   "source": [
    "#### Q6. Promote the best model to the model registry\n",
    "The results from the hyperparameter optimization are quite good. So, we can assume that we are ready to test some of these models in production. In this exercise, you'll promote the best model to the model registry. We have prepared a script called register_model.py, which will check the results from the previous step and select the top 5 runs. After that, it will calculate the RMSE of those models on the test set (March 2023 data) and save the results to a new experiment called random-forest-best-models.\n",
    "\n",
    "Your task is to update the script register_model.py so that it selects the model with the lowest RMSE on the test set and registers it to the model registry.\n",
    "\n",
    "Tip 1: you can use the method search_runs from the MlflowClient to get the model with the lowest RMSE,\n",
    "\n",
    "Tip 2: to register the model you can use the method mlflow.register_model and you will need to pass the right model_uri in the form of a string that looks like this: \"runs:/<RUN_ID>/model\", and the name of the model (make sure to choose a good one!).\n",
    "\n",
    "What is the test RMSE of the best model?"
   ]
  },
  {
   "cell_type": "markdown",
   "id": "faec7867-9d28-48cf-8788-252afb80e4d2",
   "metadata": {},
   "source": []
  }
 ],
 "metadata": {
  "kernelspec": {
   "display_name": "Python 3 (ipykernel)",
   "language": "python",
   "name": "python3"
  },
  "language_info": {
   "codemirror_mode": {
    "name": "ipython",
    "version": 3
   },
   "file_extension": ".py",
   "mimetype": "text/x-python",
   "name": "python",
   "nbconvert_exporter": "python",
   "pygments_lexer": "ipython3",
   "version": "3.11.12"
  }
 },
 "nbformat": 4,
 "nbformat_minor": 5
}
