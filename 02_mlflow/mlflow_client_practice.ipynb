{
 "cells": [
  {
   "cell_type": "code",
   "execution_count": 2,
   "id": "5d0fd7ae-5cfc-481f-9112-dcc4e33e37bb",
   "metadata": {},
   "outputs": [],
   "source": [
    "from mlflow.tracking import MlflowClient\n",
    "from pathlib import Path"
   ]
  },
  {
   "cell_type": "code",
   "execution_count": 3,
   "id": "c1be5d98-3825-45c1-91aa-3e50eb5dcda6",
   "metadata": {},
   "outputs": [],
   "source": [
    "current_dir = Path('.').resolve()\n",
    "mlflow_db=(Path(current_dir) / 'mlflow.db').resolve()"
   ]
  },
  {
   "cell_type": "code",
   "execution_count": 5,
   "id": "d867131e-fe61-4332-b7d3-5c7c9e7684c7",
   "metadata": {},
   "outputs": [],
   "source": [
    "MLFLOW_TRACKING_URI = f\"sqlite:///{mlflow_db}\""
   ]
  },
  {
   "cell_type": "code",
   "execution_count": 6,
   "id": "2b44896a-e40c-4cbc-be58-ef505d5d9c63",
   "metadata": {},
   "outputs": [],
   "source": [
    "client = MlflowClient(tracking_uri=MLFLOW_TRACKING_URI)"
   ]
  },
  {
   "cell_type": "code",
   "execution_count": 8,
   "id": "f045419d-f6ff-48ef-8480-82f1ada83d28",
   "metadata": {},
   "outputs": [
    {
     "data": {
      "text/plain": [
       "[<Experiment: artifact_location='/home/alex/python_projects/course_mlops/mlops-homework/02_mlflow/mlruns/1', creation_time=1747867498420, experiment_id='1', last_update_time=1747867498420, lifecycle_stage='active', name='nyc-taxi-experiment', tags={}>,\n",
       " <Experiment: artifact_location='mlflow-artifacts:/0', creation_time=1747867421121, experiment_id='0', last_update_time=1747867421121, lifecycle_stage='active', name='Default', tags={}>]"
      ]
     },
     "execution_count": 8,
     "metadata": {},
     "output_type": "execute_result"
    }
   ],
   "source": [
    "client.search_experiments()"
   ]
  },
  {
   "cell_type": "code",
   "execution_count": 9,
   "id": "97019026-9acf-49ed-9d4c-5c6c42917e9f",
   "metadata": {},
   "outputs": [
    {
     "data": {
      "text/plain": [
       "'2'"
      ]
     },
     "execution_count": 9,
     "metadata": {},
     "output_type": "execute_result"
    }
   ],
   "source": [
    "client.create_experiment(name=\"my-cool-experiment\")"
   ]
  },
  {
   "cell_type": "code",
   "execution_count": 19,
   "id": "f6a0dc15-361c-4a3c-a13b-01ecfa371862",
   "metadata": {},
   "outputs": [],
   "source": [
    "from mlflow.entities import ViewType\n",
    "\n",
    "runs = client.search_runs(experiment_ids='1', filter_string=\"metrics.rmse < 8.2\", run_view_type=ViewType.ACTIVE_ONLY, max_results=5, order_by=['metrics.rmse ASC'])"
   ]
  },
  {
   "cell_type": "code",
   "execution_count": 20,
   "id": "4e7a5dca-a55f-4907-beb8-3be779d09a37",
   "metadata": {},
   "outputs": [
    {
     "name": "stdout",
     "output_type": "stream",
     "text": [
      "run id: 60c7447a090944789b76daee1602898f, rmse: 6.3288\n",
      "run id: fe2847c5516344a19e625a01df1d1d11, rmse: 8.1267\n",
      "run id: f9858279b0c24dbe882d3477eff3b98a, rmse: 8.1267\n",
      "run id: 6d40f5753e8645fc864f3df49fce94c9, rmse: 8.1856\n"
     ]
    }
   ],
   "source": [
    "for run in runs:\n",
    "    print(f'run id: {run.info.run_id}, rmse: {run.data.metrics[\"rmse\"]:.4f}')\n",
    "    "
   ]
  },
  {
   "cell_type": "code",
   "execution_count": 24,
   "id": "aa7d9699-8321-4472-8678-2a7704af7e24",
   "metadata": {},
   "outputs": [],
   "source": [
    "import mlflow\n",
    "\n",
    "mlflow.set_tracking_uri(MLFLOW_TRACKING_URI)"
   ]
  },
  {
   "cell_type": "code",
   "execution_count": 25,
   "id": "f1a4f0ef-f1df-423c-9c30-c986b86ce682",
   "metadata": {},
   "outputs": [
    {
     "name": "stderr",
     "output_type": "stream",
     "text": [
      "Registered model 'nyc-taxi-regressor' already exists. Creating a new version of this model...\n",
      "Created version '2' of model 'nyc-taxi-regressor'.\n"
     ]
    },
    {
     "data": {
      "text/plain": [
       "<ModelVersion: aliases=[], creation_timestamp=1748362545162, current_stage='None', description=None, last_updated_timestamp=1748362545162, name='nyc-taxi-regressor', run_id='fe2847c5516344a19e625a01df1d1d11', run_link=None, source='/home/alex/python_projects/course_mlops/mlops-homework/02_mlflow/mlruns/1/fe2847c5516344a19e625a01df1d1d11/artifacts/model', status='READY', status_message=None, tags={}, user_id=None, version=2>"
      ]
     },
     "execution_count": 25,
     "metadata": {},
     "output_type": "execute_result"
    }
   ],
   "source": [
    "run_id = 'fe2847c5516344a19e625a01df1d1d11'\n",
    "model_uri = f'runs:/{run_id}/model'\n",
    "\n",
    "mlflow.register_model(model_uri=model_uri, name=\"nyc-taxi-regressor\")"
   ]
  },
  {
   "cell_type": "code",
   "execution_count": 37,
   "id": "5d299a1f-0598-4511-84f2-b05dbf132913",
   "metadata": {},
   "outputs": [
    {
     "name": "stdout",
     "output_type": "stream",
     "text": [
      "version: 1, stage: Staging\n",
      "version: 2, stage: None\n"
     ]
    },
    {
     "name": "stderr",
     "output_type": "stream",
     "text": [
      "/tmp/ipykernel_9888/403420000.py:3: FutureWarning: ``mlflow.tracking.client.MlflowClient.get_latest_versions`` is deprecated since 2.9.0. Model registry stages will be removed in a future major release. To learn more about the deprecation of model registry stages, see our migration guide here: https://mlflow.org/docs/latest/model-registry.html#migrating-from-stages\n",
      "  versions = client.get_latest_versions(name='nyc-taxi-regressor')\n"
     ]
    }
   ],
   "source": [
    "#models = client.search_registered_models(filter_string=\"attribute.name='nyc-taxi-regressor'\")\n",
    "\n",
    "versions = client.get_latest_versions(name='nyc-taxi-regressor')\n",
    "for v in versions:\n",
    "    print(f\"version: {v.version}, stage: {v.current_stage}\")"
   ]
  },
  {
   "cell_type": "code",
   "execution_count": 38,
   "id": "4fbb7f0c-9f6f-42d2-9cdd-3bcc7536c610",
   "metadata": {},
   "outputs": [
    {
     "name": "stderr",
     "output_type": "stream",
     "text": [
      "/tmp/ipykernel_9888/296586108.py:1: FutureWarning: ``mlflow.tracking.client.MlflowClient.transition_model_version_stage`` is deprecated since 2.9.0. Model registry stages will be removed in a future major release. To learn more about the deprecation of model registry stages, see our migration guide here: https://mlflow.org/docs/latest/model-registry.html#migrating-from-stages\n",
      "  client.transition_model_version_stage(name='nyc-taxi-regressor', version=2, stage=\"Staging\", archive_existing_versions=False)\n"
     ]
    },
    {
     "data": {
      "text/plain": [
       "<ModelVersion: aliases=[], creation_timestamp=1748362545162, current_stage='Staging', description=None, last_updated_timestamp=1748363391069, name='nyc-taxi-regressor', run_id='fe2847c5516344a19e625a01df1d1d11', run_link=None, source='/home/alex/python_projects/course_mlops/mlops-homework/02_mlflow/mlruns/1/fe2847c5516344a19e625a01df1d1d11/artifacts/model', status='READY', status_message=None, tags={}, user_id=None, version=2>"
      ]
     },
     "execution_count": 38,
     "metadata": {},
     "output_type": "execute_result"
    }
   ],
   "source": [
    "client.transition_model_version_stage(name='nyc-taxi-regressor', version=2, stage=\"Staging\", archive_existing_versions=False)"
   ]
  },
  {
   "cell_type": "code",
   "execution_count": null,
   "id": "dcff32d1-1ad9-405d-a377-7f3339153f7f",
   "metadata": {},
   "outputs": [],
   "source": []
  }
 ],
 "metadata": {
  "kernelspec": {
   "display_name": "Python 3 (ipykernel)",
   "language": "python",
   "name": "python3"
  },
  "language_info": {
   "codemirror_mode": {
    "name": "ipython",
    "version": 3
   },
   "file_extension": ".py",
   "mimetype": "text/x-python",
   "name": "python",
   "nbconvert_exporter": "python",
   "pygments_lexer": "ipython3",
   "version": "3.11.12"
  }
 },
 "nbformat": 4,
 "nbformat_minor": 5
}
