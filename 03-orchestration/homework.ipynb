{
 "cells": [
  {
   "cell_type": "markdown",
   "id": "51dd542a",
   "metadata": {},
   "source": [
    "### Homework #3 Alex Khvatov"
   ]
  },
  {
   "cell_type": "markdown",
   "id": "1531a5e8",
   "metadata": {
    "vscode": {
     "languageId": "plaintext"
    }
   },
   "source": [
    "#### Question 1. Select the Tool\n",
    "What's the name of the orchestrator you chose?\n",
    "\n",
    "__Airflow__"
   ]
  },
  {
   "cell_type": "markdown",
   "id": "7d736629",
   "metadata": {},
   "source": [
    "### Question 2. Version\n",
    "What's the version of the orchestrator?\n",
    "\n",
    "__3.0.1__"
   ]
  },
  {
   "cell_type": "markdown",
   "id": "df613490",
   "metadata": {
    "vscode": {
     "languageId": "plaintext"
    }
   },
   "source": [
    "### Question 3. Creating a pipeline\n",
    "Let's read the March 2023 Yellow taxi trips data.\n",
    "\n",
    "How many records did we load?\n",
    "\n",
    "__3,403,766__\n"
   ]
  },
  {
   "cell_type": "markdown",
   "id": "acee793d",
   "metadata": {},
   "source": [
    "#### Question 4. Data preparation\n",
    "After the data prep:\n",
    "\n",
    "__3,316,216__"
   ]
  },
  {
   "cell_type": "markdown",
   "id": "1a40c2f3",
   "metadata": {},
   "source": [
    "#### Question 5. Train a model\n",
    "\n",
    "We will now train a linear regression model using the same code as in homework 1.\n",
    "\n",
    "Fit a dict vectorizer.\n",
    "Train a linear regression with default parameters.\n",
    "Use pick up and drop off locations separately, don't create a combination feature.\n",
    "Let's now use it in the pipeline. We will need to create another transformation block, and return both the dict vectorizer and the model.\n",
    "\n",
    "What's the intercept of the model?\n",
    "\n",
    "_Intercept_: __23.8479__ \n"
   ]
  },
  {
   "cell_type": "markdown",
   "id": "05208ce1",
   "metadata": {},
   "source": [
    "#### Question 6. Register the model\n",
    "The model is trained, so let's save it with MLFlow.\n",
    "\n",
    "Find the logged model, and find MLModel file. What's the size of the model? (model_size_bytes field):\n",
    "\n",
    "__model_size_bytes: 4524__"
   ]
  },
  {
   "cell_type": "markdown",
   "id": "95ab6d3e",
   "metadata": {},
   "source": []
  }
 ],
 "metadata": {
  "language_info": {
   "name": "python"
  }
 },
 "nbformat": 4,
 "nbformat_minor": 5
}
